{
 "cells": [
  {
   "cell_type": "markdown",
   "metadata": {},
   "source": [
    "search algorithm "
   ]
  },
  {
   "cell_type": "code",
   "execution_count": 20,
   "metadata": {
    "collapsed": false
   },
   "outputs": [],
   "source": [
    "# insertion sort\n",
    "def insertion_sort(buck):\n",
    "    for i in range(1,len(buck)):\n",
    "        j = i\n",
    "        while buck[j]<buck[j-1]:\n",
    "            buck[j],buck[j-1] = buck[j-1],buck[j]\n",
    "            if j == 1:\n",
    "                break\n",
    "            else:\n",
    "                j -= 1\n",
    "    return buck"
   ]
  },
  {
   "cell_type": "code",
   "execution_count": 21,
   "metadata": {
    "collapsed": false
   },
   "outputs": [
    {
     "name": "stdout",
     "output_type": "stream",
     "text": [
      "4.57899999619\n"
     ]
    }
   ],
   "source": [
    "import time \n",
    "start = time.time()\n",
    "import random\n",
    "buck = [random.randrange(1,1000) for i in range(10000)]\n",
    "insertion_sort(buck)\n",
    "times = time.time()- start\n",
    "print(times)"
   ]
  },
  {
   "cell_type": "code",
   "execution_count": 22,
   "metadata": {
    "collapsed": false
   },
   "outputs": [],
   "source": [
    "# selection sort\n",
    "# min function should be changed\n",
    "def selection_sort(buck):\n",
    "    result = []\n",
    "    for i in buck:\n",
    "        t = min(buck)\n",
    "        result.append(t)\n",
    "        buck.pop(t)\n",
    "    return result"
   ]
  },
  {
   "cell_type": "code",
   "execution_count": 23,
   "metadata": {
    "collapsed": false
   },
   "outputs": [
    {
     "name": "stdout",
     "output_type": "stream",
     "text": [
      "0.717000007629\n"
     ]
    }
   ],
   "source": [
    "import time \n",
    "start = time.time()\n",
    "import random\n",
    "buck = [random.randrange(1,1000) for i in range(10000)]\n",
    "selection_sort(buck)\n",
    "times = time.time()- start\n",
    "print(times)"
   ]
  },
  {
   "cell_type": "code",
   "execution_count": 97,
   "metadata": {
    "collapsed": true
   },
   "outputs": [],
   "source": [
    "def sel_sort(buck):\n",
    "    result = []\n",
    "    t = len(buck)\n",
    "    for i in range(t):\n",
    "        minimal = buck[0]\n",
    "        for j in range(len(buck)):\n",
    "            if buck[j] < minimal:\n",
    "                minimal = buck[j]\n",
    "        print(result,minimal,buck)\n",
    "        result.append(minimal)\n",
    "        buck.pop(j)\n",
    "        print buck\n",
    "    return result"
   ]
  },
  {
   "cell_type": "code",
   "execution_count": 98,
   "metadata": {
    "collapsed": false
   },
   "outputs": [],
   "source": [
    "buck  = [1,2,4,5,3]"
   ]
  },
  {
   "cell_type": "code",
   "execution_count": 99,
   "metadata": {
    "collapsed": false
   },
   "outputs": [
    {
     "name": "stdout",
     "output_type": "stream",
     "text": [
      "([], 1, [1, 2, 4, 5, 3])\n",
      "[1, 2, 4, 5]\n",
      "([1], 1, [1, 2, 4, 5])\n",
      "[1, 2, 4]\n",
      "([1, 1], 1, [1, 2, 4])\n",
      "[1, 2]\n",
      "([1, 1, 1], 1, [1, 2])\n",
      "[1]\n",
      "([1, 1, 1, 1], 1, [1])\n",
      "[]\n"
     ]
    },
    {
     "data": {
      "text/plain": [
       "[1, 1, 1, 1, 1]"
      ]
     },
     "execution_count": 99,
     "metadata": {},
     "output_type": "execute_result"
    }
   ],
   "source": [
    "sel_sort(buck)"
   ]
  },
  {
   "cell_type": "code",
   "execution_count": 93,
   "metadata": {
    "collapsed": false
   },
   "outputs": [
    {
     "data": {
      "text/plain": [
       "2"
      ]
     },
     "execution_count": 93,
     "metadata": {},
     "output_type": "execute_result"
    }
   ],
   "source": []
  },
  {
   "cell_type": "code",
   "execution_count": null,
   "metadata": {
    "collapsed": true
   },
   "outputs": [],
   "source": []
  }
 ],
 "metadata": {
  "kernelspec": {
   "display_name": "Python 2",
   "language": "python",
   "name": "python2"
  },
  "language_info": {
   "codemirror_mode": {
    "name": "ipython",
    "version": 2
   },
   "file_extension": ".py",
   "mimetype": "text/x-python",
   "name": "python",
   "nbconvert_exporter": "python",
   "pygments_lexer": "ipython2",
   "version": "2.7.13"
  }
 },
 "nbformat": 4,
 "nbformat_minor": 0
}
