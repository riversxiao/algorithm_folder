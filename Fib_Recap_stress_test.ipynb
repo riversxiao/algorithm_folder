{
 "cells": [
  {
   "cell_type": "code",
   "execution_count": null,
   "metadata": {
    "collapsed": true
   },
   "outputs": [],
   "source": [
    "def fib(n):\n",
    "    a, b = 0, 1\n",
    "    for _ in range(n):\n",
    "        a, b = b, a+b\n",
    "    return a"
   ]
  },
  {
   "cell_type": "code",
   "execution_count": 9,
   "metadata": {
    "collapsed": true
   },
   "outputs": [],
   "source": [
    "# harder version\n",
    "def fib(n):\n",
    "    memo ={0:0,\n",
    "           1:1}\n",
    "    for i in range(2,n+1):\n",
    "\n",
    "        memo[i] = memo[i-1] + memo[i-2]\n",
    "    return memo[n]"
   ]
  },
  {
   "cell_type": "code",
   "execution_count": 3,
   "metadata": {
    "collapsed": true
   },
   "outputs": [],
   "source": [
    "# easier version\n",
    "def fib1(n):\n",
    "    if n == 1:\n",
    "        return 0\n",
    "    if n == 2:\n",
    "        return 1\n",
    "    return fib1(n-1)+fib1(n-2)\n",
    "\n",
    "    "
   ]
  },
  {
   "cell_type": "code",
   "execution_count": 7,
   "metadata": {
    "scrolled": false
   },
   "outputs": [
    {
     "name": "stdout",
     "output_type": "stream",
     "text": [
      "\n",
      " time cost for fib(27) is 1.9000000001767603e-05; \n",
      " time cost for fib1(27) is 0.08907800000000066\n",
      "\n",
      " time cost for fib(29) is 2.6999999999333113e-05; \n",
      " time cost for fib1(29) is 0.1888229999999993\n",
      "\n",
      " time cost for fib(27) is 3.200000000092018e-05; \n",
      " time cost for fib1(27) is 0.07344499999999954\n",
      "\n",
      " time cost for fib(27) is 2.2999999998774e-05; \n",
      " time cost for fib1(27) is 0.07458199999999948\n",
      "\n",
      " time cost for fib(28) is 1.9999999999242846e-05; \n",
      " time cost for fib1(28) is 0.11259700000000095\n",
      "\n",
      " time cost for fib(28) is 1.899999999821489e-05; \n",
      " time cost for fib1(28) is 0.13581600000000194\n",
      "\n",
      " time cost for fib(27) is 2.3000000002326715e-05; \n",
      " time cost for fib1(27) is 0.07269600000000054\n",
      "\n",
      " time cost for fib(29) is 2.2999999998774e-05; \n",
      " time cost for fib1(29) is 0.1826030000000003\n",
      "\n",
      " time cost for fib(28) is 2.6999999999333113e-05; \n",
      " time cost for fib1(28) is 0.11822499999999891\n",
      "\n",
      " time cost for fib(28) is 4.300000000156956e-05; \n",
      " time cost for fib1(28) is 0.12649700000000053\n",
      "\n",
      " time cost for fib(27) is 5.300000000119098e-05; \n",
      " time cost for fib1(27) is 0.084425999999997\n",
      "\n",
      " time cost for fib(26) is 2.8999999997836312e-05; \n",
      " time cost for fib1(26) is 0.04709799999999831\n",
      "\n",
      " time cost for fib(26) is 3.599999999792658e-05; \n",
      " time cost for fib1(26) is 0.043165000000001896\n",
      "\n",
      " time cost for fib(26) is 1.4000000000180535e-05; \n",
      " time cost for fib1(26) is 0.0437870000000018\n",
      "\n",
      " time cost for fib(29) is 1.899999999821489e-05; \n",
      " time cost for fib1(29) is 0.20016900000000248\n",
      "\n",
      " time cost for fib(28) is 1.5999999998683734e-05; \n",
      " time cost for fib1(28) is 0.1404430000000012\n",
      "\n",
      " time cost for fib(28) is 2.3999999999801958e-05; \n",
      " time cost for fib1(28) is 0.13181900000000013\n",
      "\n",
      " time cost for fib(27) is 1.9999999999242846e-05; \n",
      " time cost for fib1(27) is 0.08582999999999785\n",
      "\n",
      " time cost for fib(27) is 2.3999999999801958e-05; \n",
      " time cost for fib1(27) is 0.090838999999999\n",
      "\n",
      " time cost for fib(27) is 1.5999999998683734e-05; \n",
      " time cost for fib1(27) is 0.0868050000000018\n",
      "\n",
      " time cost for fib(28) is 2.400000000335467e-05; \n",
      " time cost for fib1(28) is 0.1304729999999985\n",
      "\n",
      " time cost for fib(28) is 1.699999999971169e-05; \n",
      " time cost for fib1(28) is 0.12506199999999978\n",
      "\n",
      " time cost for fib(26) is 2.200000000129876e-05; \n",
      " time cost for fib1(26) is 0.05157400000000223\n",
      "\n",
      " time cost for fib(29) is 4.500000000007276e-05; \n",
      " time cost for fib1(29) is 0.21425699999999992\n",
      "\n",
      " time cost for fib(28) is 2.5000000000829914e-05; \n",
      " time cost for fib1(28) is 0.12324999999999875\n",
      "\n",
      " time cost for fib(28) is 1.5000000001208491e-05; \n",
      " time cost for fib1(28) is 0.1378699999999995\n",
      "\n",
      " time cost for fib(28) is 2.5000000000829914e-05; \n",
      " time cost for fib1(28) is 0.13749699999999976\n",
      "\n",
      " time cost for fib(28) is 2.6999999999333113e-05; \n",
      " time cost for fib1(28) is 0.1299740000000007\n",
      "\n",
      " time cost for fib(27) is 3.0999999999892225e-05; \n",
      " time cost for fib1(27) is 0.08273200000000003\n",
      "\n",
      " time cost for fib(28) is 2.3999999999801958e-05; \n",
      " time cost for fib1(28) is 0.11826599999999843\n",
      "\n",
      " time cost for fib(29) is 3.0999999999892225e-05; \n",
      " time cost for fib1(29) is 0.20429299999999984\n",
      "\n",
      " time cost for fib(26) is 1.699999999971169e-05; \n",
      " time cost for fib1(26) is 0.05999000000000265\n",
      "\n",
      " time cost for fib(29) is 2.1000000000270802e-05; \n",
      " time cost for fib1(29) is 0.2104050000000015\n",
      "\n",
      " time cost for fib(28) is 1.5999999998683734e-05; \n",
      " time cost for fib1(28) is 0.12714699999999723\n",
      "\n",
      " time cost for fib(27) is 2.5000000000829914e-05; \n",
      " time cost for fib1(27) is 0.07641600000000182\n",
      "\n",
      " time cost for fib(27) is 1.9000000001767603e-05; \n",
      " time cost for fib1(27) is 0.0759830000000008\n",
      "\n",
      " time cost for fib(27) is 1.5999999998683734e-05; \n",
      " time cost for fib1(27) is 0.0828099999999985\n",
      "\n",
      " time cost for fib(26) is 2.200000000129876e-05; \n",
      " time cost for fib1(26) is 0.05391599999999741\n",
      "\n",
      " time cost for fib(26) is 2.5000000000829914e-05; \n",
      " time cost for fib1(26) is 0.04472600000000071\n",
      "\n",
      " time cost for fib(27) is 1.9000000001767603e-05; \n",
      " time cost for fib1(27) is 0.07510500000000064\n",
      "\n",
      " time cost for fib(29) is 2.1999999997746045e-05; \n",
      " time cost for fib1(29) is 0.1974240000000016\n",
      "\n",
      " time cost for fib(26) is 3.399999999942338e-05; \n",
      " time cost for fib1(26) is 0.0487739999999981\n",
      "\n",
      " time cost for fib(27) is 2.5999999998305157e-05; \n",
      " time cost for fib1(27) is 0.08203999999999922\n",
      "\n",
      " time cost for fib(27) is 2.6999999999333113e-05; \n",
      " time cost for fib1(27) is 0.09082199999999929\n",
      "\n",
      " time cost for fib(28) is 2.1000000000270802e-05; \n",
      " time cost for fib1(28) is 0.12581399999999832\n",
      "\n",
      " time cost for fib(28) is 4.900000000063187e-05; \n",
      " time cost for fib1(28) is 0.15059300000000064\n"
     ]
    }
   ],
   "source": [
    "## implement stress test\n",
    "import random\n",
    "import time\n",
    "start = time.clock()\n",
    "duration = 30\n",
    "while time.clock()- start < 5:\n",
    "    \n",
    "    x = random.randrange(26,30)\n",
    "    start1 = time.clock()\n",
    "    resultA = fib(x)\n",
    "    t1_cost = time.clock() -start1\n",
    "    start2 = time.clock()\n",
    "    resultB = fib1(x)\n",
    "    t2_cost = time.clock() -start2\n",
    "    if resultA!=resultB:\n",
    "        print (resultA,resultB)\n",
    "        break\n",
    "    else:\n",
    "        print(\"\\n time cost for fib({0}) is {1}; \\n time cost for fib1({0}) is {2}\".format(x,t1_cost,t2_cost))\n"
   ]
  },
  {
   "cell_type": "code",
   "execution_count": 11,
   "metadata": {},
   "outputs": [
    {
     "data": {
      "text/plain": [
       "63245986"
      ]
     },
     "execution_count": 11,
     "metadata": {},
     "output_type": "execute_result"
    }
   ],
   "source": [
    "2816213588 30524"
   ]
  },
  {
   "cell_type": "code",
   "execution_count": 42,
   "metadata": {},
   "outputs": [],
   "source": [
    "def fib_mod(n,m):\n",
    "    memo ={0:0,\n",
    "           1:1}\n",
    "    period = [0,1]\n",
    "    for i in range(2,n+1):\n",
    "        memo[i] = memo[i-1] + memo[i-2]\n",
    "        period.append()\n",
    "        if memo[i]%m==0:\n",
    "            index = (n+1)%(i-1)\n",
    "            return period[index-1]\n",
    "    print(period)\n",
    "    return memo[n]%m\n"
   ]
  },
  {
   "cell_type": "code",
   "execution_count": 43,
   "metadata": {},
   "outputs": [
    {
     "name": "stdout",
     "output_type": "stream",
     "text": [
      "[0, 1, 1]\n",
      "[0, 1, 1, 0]\n",
      "[0, 1, 1, 0, 1]\n"
     ]
    },
    {
     "data": {
      "text/plain": [
       "0"
      ]
     },
     "execution_count": 43,
     "metadata": {},
     "output_type": "execute_result"
    }
   ],
   "source": [
    "fib_mod(10,2)"
   ]
  },
  {
   "cell_type": "code",
   "execution_count": 31,
   "metadata": {},
   "outputs": [
    {
     "data": {
      "text/plain": [
       "6"
      ]
     },
     "execution_count": 31,
     "metadata": {},
     "output_type": "execute_result"
    }
   ],
   "source": [
    "fibonacci_sum_naive(100)"
   ]
  },
  {
   "cell_type": "code",
   "execution_count": 62,
   "metadata": {},
   "outputs": [],
   "source": [
    "def fib_sum(n):\n",
    "    memo ={0:0,\n",
    "           1:1}\n",
    "    period = [0,1]\n",
    "    for i in range(2,n+1):\n",
    "        memo[i] = memo[i-1] + memo[i-2]\n",
    "        period.append(memo[i]%10)\n",
    "        if period[-2:] ==[0,1]:\n",
    "            freq = (len(period)-2)\n",
    "            inner_sum = sum(period[:-2])\n",
    "            times = n//freq\n",
    "            index = n % freq\n",
    "            return (inner_sum * times + sum(period[:index+1]))%10\n",
    "    return sum(period)%10"
   ]
  },
  {
   "cell_type": "code",
   "execution_count": 64,
   "metadata": {},
   "outputs": [
    {
     "data": {
      "text/plain": [
       "4"
      ]
     },
     "execution_count": 64,
     "metadata": {},
     "output_type": "execute_result"
    }
   ],
   "source": [
    "fib_sum(3)"
   ]
  },
  {
   "cell_type": "code",
   "execution_count": 65,
   "metadata": {
    "collapsed": true
   },
   "outputs": [],
   "source": [
    "\n",
    "def fib_sum(n):\n",
    "    memo ={0:0,\n",
    "           1:1}\n",
    "    period = [0,1]\n",
    "    for i in range(2,n+1):\n",
    "        memo[i] = memo[i-1] + memo[i-2]\n",
    "        period.append(memo[i]%10)\n",
    "        if period[-2:] ==[0,1]:\n",
    "            freq = (len(period)-2)\n",
    "            inner_sum = sum(period[:-2])\n",
    "            times = n//freq\n",
    "            index = n % freq\n",
    "            return (inner_sum * times + sum(period[:index+1]))%10\n",
    "    return sum(period)%10\n",
    "    \n",
    "def fib_sum_p(from_, to):\n",
    "    if from_ ==0 :\n",
    "        return fib_sum(to)\n",
    "    \n",
    "    result =fib_sum(to)+10-fib_sum(from_-1)\n",
    "\n",
    "    return result%10\n"
   ]
  },
  {
   "cell_type": "code",
   "execution_count": 72,
   "metadata": {},
   "outputs": [
    {
     "data": {
      "text/plain": [
       "2"
      ]
     },
     "execution_count": 72,
     "metadata": {},
     "output_type": "execute_result"
    }
   ],
   "source": [
    "fib_sum_p(9,200)"
   ]
  },
  {
   "cell_type": "code",
   "execution_count": 68,
   "metadata": {},
   "outputs": [
    {
     "data": {
      "text/plain": [
       "3"
      ]
     },
     "execution_count": 68,
     "metadata": {},
     "output_type": "execute_result"
    }
   ],
   "source": [
    "fib_sum(10)"
   ]
  },
  {
   "cell_type": "code",
   "execution_count": 69,
   "metadata": {},
   "outputs": [
    {
     "data": {
      "text/plain": [
       "0"
      ]
     },
     "execution_count": 69,
     "metadata": {},
     "output_type": "execute_result"
    }
   ],
   "source": [
    "fib_sum(200)"
   ]
  },
  {
   "cell_type": "code",
   "execution_count": 70,
   "metadata": {
    "collapsed": true
   },
   "outputs": [],
   "source": [
    "def fib(n):\n",
    "    memo ={0:0,\n",
    "           1:1}\n",
    "    for i in range(2,n+1):\n",
    "\n",
    "        memo[i] = memo[i-1] + memo[i-2]\n",
    "    return memo[n]"
   ]
  },
  {
   "cell_type": "code",
   "execution_count": 71,
   "metadata": {},
   "outputs": [
    {
     "data": {
      "text/plain": [
       "734544867157818093234908902110449296423350"
      ]
     },
     "execution_count": 71,
     "metadata": {},
     "output_type": "execute_result"
    }
   ],
   "source": [
    "fib(202)-1"
   ]
  },
  {
   "cell_type": "code",
   "execution_count": 82,
   "metadata": {
    "collapsed": true
   },
   "outputs": [],
   "source": [
    "def gcd(x, y):\n",
    "    while y != 0:\n",
    "        (x, y) = (y, x % y)\n",
    "    return x\n",
    "# least common multiplier\n",
    "def lcm(a, b):\n",
    "    result = a*b//gcd(a,b)\n",
    "    return int(result)\n"
   ]
  },
  {
   "cell_type": "code",
   "execution_count": 84,
   "metadata": {},
   "outputs": [],
   "source": [
    "def fib_mod(n,m):\n",
    "    memo ={0:0,\n",
    "           1:1}\n",
    "    period = [0,1]\n",
    "    for i in range(2,n+1):\n",
    "        memo[i] = memo[i-1] + memo[i-2]\n",
    "        period.append(memo[i]%m)\n",
    "        if period[-2:] ==[0,1]:\n",
    "            index = (n+1)%(len(period)-2)\n",
    "            return period[index-1]\n",
    "    return memo[n]%m"
   ]
  },
  {
   "cell_type": "code",
   "execution_count": 85,
   "metadata": {},
   "outputs": [
    {
     "data": {
      "text/plain": [
       "90626"
      ]
     },
     "execution_count": 85,
     "metadata": {},
     "output_type": "execute_result"
    }
   ],
   "source": [
    "fib_mod(99999999999999999,100000)"
   ]
  },
  {
   "cell_type": "code",
   "execution_count": 77,
   "metadata": {},
   "outputs": [
    {
     "data": {
      "text/plain": [
       "231871064940156750"
      ]
     },
     "execution_count": 77,
     "metadata": {},
     "output_type": "execute_result"
    }
   ],
   "source": [
    "231871064940156750"
   ]
  },
  {
   "cell_type": "code",
   "execution_count": 78,
   "metadata": {},
   "outputs": [
    {
     "data": {
      "text/plain": [
       "5"
      ]
     },
     "execution_count": 78,
     "metadata": {},
     "output_type": "execute_result"
    }
   ],
   "source": [
    "gcd(226553150,1023473145)"
   ]
  },
  {
   "cell_type": "code",
   "execution_count": 81,
   "metadata": {},
   "outputs": [
    {
     "data": {
      "text/plain": [
       "46374212988031352"
      ]
     },
     "execution_count": 81,
     "metadata": {},
     "output_type": "execute_result"
    }
   ],
   "source": [
    "int(231871064940156750/5)"
   ]
  },
  {
   "cell_type": "code",
   "execution_count": null,
   "metadata": {
    "collapsed": true
   },
   "outputs": [],
   "source": []
  }
 ],
 "metadata": {
  "kernelspec": {
   "display_name": "Python 3",
   "language": "python",
   "name": "python3"
  },
  "language_info": {
   "codemirror_mode": {
    "name": "ipython",
    "version": 3
   },
   "file_extension": ".py",
   "mimetype": "text/x-python",
   "name": "python",
   "nbconvert_exporter": "python",
   "pygments_lexer": "ipython3",
   "version": "3.5.3"
  }
 },
 "nbformat": 4,
 "nbformat_minor": 2
}
