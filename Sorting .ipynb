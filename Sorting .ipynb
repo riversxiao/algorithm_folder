{
 "cells": [
  {
   "cell_type": "code",
   "execution_count": 161,
   "metadata": {
    "collapsed": true
   },
   "outputs": [],
   "source": [
    "# selection sort\n",
    "\n",
    "def selection_sort(values):\n",
    "    for i in range(len(values)-1):\n",
    "        min_index = i\n",
    "        min_value = values[i]\n",
    "        for j in range(i+1,len(values)):\n",
    "            if min_value > values[j]:\n",
    "                min_index = j\n",
    "                min_value = values[j]\n",
    "        values[i],values[min_index] = values[min_index], values[i]\n",
    "    return values\n",
    "        \n"
   ]
  },
  {
   "cell_type": "code",
   "execution_count": 169,
   "metadata": {
    "collapsed": false
   },
   "outputs": [
    {
     "data": {
      "text/plain": [
       "[95, 91, 75, 41, 37, 31, 85, 25, 46]"
      ]
     },
     "execution_count": 169,
     "metadata": {},
     "output_type": "execute_result"
    }
   ],
   "source": [
    "test1[1:10]"
   ]
  },
  {
   "cell_type": "code",
   "execution_count": 170,
   "metadata": {
    "collapsed": false
   },
   "outputs": [
    {
     "data": {
      "text/plain": [
       "[1, 2, 2, 2, 4, 5, 5, 5, 5, 7, 7, 7, 8, 8]"
      ]
     },
     "execution_count": 170,
     "metadata": {},
     "output_type": "execute_result"
    }
   ],
   "source": [
    "selection_sort(test1)[1:15]"
   ]
  },
  {
   "cell_type": "code",
   "execution_count": 171,
   "metadata": {
    "collapsed": false
   },
   "outputs": [],
   "source": [
    "# insertion_sort\n",
    "def insertion_sort(values):\n",
    "    for i in range(len(values)):\n",
    "        if i == 0:\n",
    "            min_value = values[i]\n",
    "        else:\n",
    "            while i>=1 and values[i-1]>values[i]:\n",
    "                values[i-1],values[i] = values[i],values[i-1]\n",
    "                i -= 1\n",
    "    return values\n",
    "        \n",
    "        "
   ]
  },
  {
   "cell_type": "code",
   "execution_count": 173,
   "metadata": {
    "collapsed": false,
    "scrolled": true
   },
   "outputs": [
    {
     "data": {
      "text/plain": [
       "[1, 1, 2, 2, 2, 4, 5, 5, 5, 5, 7, 7, 7, 8, 8]"
      ]
     },
     "execution_count": 173,
     "metadata": {},
     "output_type": "execute_result"
    }
   ],
   "source": [
    "insertion_sort(test1)[0:15]"
   ]
  },
  {
   "cell_type": "code",
   "execution_count": 178,
   "metadata": {
    "collapsed": true
   },
   "outputs": [],
   "source": [
    "# bubble_sort\n",
    "def bubble_sort(values):\n",
    "    for i in range(len(values)-1):\n",
    "        for j in range(len(values)-i-1):\n",
    "            if values[j] > values[j+1]:\n",
    "                values[j],values[j+1] = values[j+1], values[j]\n",
    "    return values   "
   ]
  },
  {
   "cell_type": "code",
   "execution_count": 181,
   "metadata": {
    "collapsed": false
   },
   "outputs": [
    {
     "data": {
      "text/plain": [
       "[1, 2, 2, 2, 4, 5, 5, 5, 5, 7, 7, 7, 8, 8]"
      ]
     },
     "execution_count": 181,
     "metadata": {},
     "output_type": "execute_result"
    }
   ],
   "source": [
    "bubble_sort(test1)[1:15]"
   ]
  },
  {
   "cell_type": "code",
   "execution_count": 196,
   "metadata": {
    "collapsed": true
   },
   "outputs": [],
   "source": [
    "def merge(seq1,seq2):\n",
    "    seq3 = []\n",
    "    while len(seq1)>0 and len(seq2)>0:\n",
    "        if seq1[0]>seq2[0]:\n",
    "            seq3.append(seq2[0])\n",
    "            seq2.pop(0)\n",
    "        else:\n",
    "            seq3.append(seq1[0])\n",
    "            seq1.pop(0)\n",
    "    if seq1:\n",
    "        seq3 += seq1\n",
    "    if seq2:\n",
    "        seq3 += seq2\n",
    "    return seq3\n",
    "\n",
    "def merge_sort(seq):\n",
    "    n  = len(seq)\n",
    "    if len(seq) == 1:\n",
    "        return seq\n",
    "    n = int(n/2)\n",
    "    L1 = seq[:n]\n",
    "    L2 = seq[n:]\n",
    "    merge_sort(L1)\n",
    "    merge_sort(L2)\n",
    "    return merge(L1,L2)\n",
    "        \n",
    "        \n",
    "    "
   ]
  },
  {
   "cell_type": "code",
   "execution_count": 214,
   "metadata": {
    "collapsed": true
   },
   "outputs": [],
   "source": [
    "test1 = []\n",
    "for i in range(1000):\n",
    "    test1.append(random.randint(1,1000))"
   ]
  },
  {
   "cell_type": "code",
   "execution_count": 215,
   "metadata": {
    "collapsed": false,
    "scrolled": false
   },
   "outputs": [
    {
     "name": "stdout",
     "output_type": "stream",
     "text": [
      "10 loops, best of 3: 39.3 ms per loop\n",
      "100 loops, best of 3: 4.41 ms per loop\n",
      "10 loops, best of 3: 64.8 ms per loop\n",
      "1000 loops, best of 3: 196 µs per loop\n"
     ]
    }
   ],
   "source": [
    "\n",
    "%timeit selection_sort(test1)\n",
    "%timeit merge_sort(test1)\n",
    "%timeit bubble_sort(test1)\n",
    "%timeit insertion_sort(test1)"
   ]
  },
  {
   "cell_type": "code",
   "execution_count": 217,
   "metadata": {
    "collapsed": false
   },
   "outputs": [
    {
     "data": {
      "text/plain": [
       "[2, 1, 5, 3]"
      ]
     },
     "execution_count": 217,
     "metadata": {},
     "output_type": "execute_result"
    }
   ],
   "source": [
    "merge_sort([5,3,2,1])"
   ]
  },
  {
   "cell_type": "code",
   "execution_count": 210,
   "metadata": {
    "collapsed": false
   },
   "outputs": [
    {
     "name": "stdout",
     "output_type": "stream",
     "text": [
      "1000 loops, best of 3: 605 µs per loop\n"
     ]
    }
   ],
   "source": []
  },
  {
   "cell_type": "code",
   "execution_count": 211,
   "metadata": {
    "collapsed": false
   },
   "outputs": [
    {
     "name": "stdout",
     "output_type": "stream",
     "text": [
      "10000 loops, best of 3: 19.3 µs per loop\n"
     ]
    }
   ],
   "source": []
  },
  {
   "cell_type": "code",
   "execution_count": null,
   "metadata": {
    "collapsed": true
   },
   "outputs": [],
   "source": []
  }
 ],
 "metadata": {
  "kernelspec": {
   "display_name": "Python 3",
   "language": "python",
   "name": "python3"
  },
  "language_info": {
   "codemirror_mode": {
    "name": "ipython",
    "version": 3
   },
   "file_extension": ".py",
   "mimetype": "text/x-python",
   "name": "python",
   "nbconvert_exporter": "python",
   "pygments_lexer": "ipython3",
   "version": "3.6.0"
  }
 },
 "nbformat": 4,
 "nbformat_minor": 2
}
