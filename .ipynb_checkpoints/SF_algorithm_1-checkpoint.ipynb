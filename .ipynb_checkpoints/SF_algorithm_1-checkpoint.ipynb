{
 "cells": [
  {
   "cell_type": "markdown",
   "metadata": {},
   "source": [
    "integer multiplication"
   ]
  },
  {
   "cell_type": "markdown",
   "metadata": {},
   "source": [
    "Can we do better?"
   ]
  },
  {
   "cell_type": "markdown",
   "metadata": {},
   "source": [
    "```\n",
    "Input: x and y\n",
    "\n",
    "Output: the product of x*y\n",
    "```"
   ]
  },
  {
   "cell_type": "markdown",
   "metadata": {},
   "source": [
    "Karatsuba  Multiplication"
   ]
  },
  {
   "cell_type": "code",
   "execution_count": 2,
   "metadata": {
    "collapsed": true
   },
   "outputs": [],
   "source": [
    "def karatsuba_multiplication(x,y):\n",
    "    length = len(str(x))\n",
    "    \n",
    "    if x<10 or y <10:\n",
    "        return x*y\n",
    "    m = max(len(str(x)),len(str(y)))\n",
    "    m2 = m/2\n",
    "    a = int(x/(10**m2))\n",
    "    b = int(x%(10**m2))\n",
    "    c = int(y/(10**m2))\n",
    "    d = int(y%(10**m2))\n",
    "    z0 = karatsuba_multiplication(b,d)\n",
    "    z1 = karatsuba_multiplication((a+b),(c+d))\n",
    "    z2 = karatsuba_multiplication(a,c)\n",
    "    return 10**(2*m2) * (z2) + 10**(m2) * (z1 -z2 -z0) + z0\n"
   ]
  },
  {
   "cell_type": "code",
   "execution_count": 3,
   "metadata": {
    "collapsed": false
   },
   "outputs": [
    {
     "data": {
      "text/plain": [
       "8.539732578930623e+126"
      ]
     },
     "execution_count": 3,
     "metadata": {},
     "output_type": "execute_result"
    }
   ],
   "source": [
    "karatsuba_multiplication(3141592653589793238462643383279502884197169399375105820974944592,2718281828459045235360287471352662497757247093699959574966967627)"
   ]
  },
  {
   "cell_type": "markdown",
   "metadata": {},
   "source": [
    "The above function sometimes work sometimes not , not sure about the reason "
   ]
  },
  {
   "cell_type": "code",
   "execution_count": null,
   "metadata": {
    "collapsed": true
   },
   "outputs": [],
   "source": []
  }
 ],
 "metadata": {
  "kernelspec": {
   "display_name": "Python 3",
   "language": "python",
   "name": "python3"
  },
  "language_info": {
   "codemirror_mode": {
    "name": "ipython",
    "version": 3
   },
   "file_extension": ".py",
   "mimetype": "text/x-python",
   "name": "python",
   "nbconvert_exporter": "python",
   "pygments_lexer": "ipython3",
   "version": "3.6.0"
  }
 },
 "nbformat": 4,
 "nbformat_minor": 2
}
