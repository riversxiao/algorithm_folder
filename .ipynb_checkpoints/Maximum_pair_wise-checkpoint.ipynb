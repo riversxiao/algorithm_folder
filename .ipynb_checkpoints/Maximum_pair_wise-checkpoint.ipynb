{
 "cells": [
  {
   "cell_type": "code",
   "execution_count": 1,
   "metadata": {
    "collapsed": true
   },
   "outputs": [],
   "source": [
    "## merge sort\n",
    "def merge(left, right):\n",
    "    result = []\n",
    "    n, m = 0, 0\n",
    "    while n < len(left) and m < len(right):\n",
    "        if left[n] <= right[m]:\n",
    "            result.append(left[n])\n",
    "            n += 1\n",
    "        else:\n",
    "            result.append(right[m])\n",
    "            m += 1\n",
    "    result += left[n:]\n",
    "    result += right[m:]\n",
    "    return result\n",
    "\n",
    "def sort(seq):\n",
    "\n",
    "    if len(seq) <= 1:\n",
    "        return seq\n",
    "    middle = int(len(seq) / 2)\n",
    "    left = sort(seq[:middle])\n",
    "    right = sort(seq[middle:])\n",
    "\n",
    "    return merge(left, right)\n"
   ]
  },
  {
   "cell_type": "code",
   "execution_count": 2,
   "metadata": {
    "collapsed": true
   },
   "outputs": [],
   "source": [
    "def merge(left, right):\n",
    "    result = []\n",
    "    n,m = 0,0 \n",
    "    while n< len(left) and m< len(right):\n",
    "        if left[n] <= right[m]:\n",
    "            result.append(left[n])\n",
    "            n +=1\n",
    "        else:\n",
    "            result.append(right[m])\n",
    "            m += 1\n",
    "        result += left[n:]\n",
    "        result += right[m:]\n",
    "        return result\n",
    "def sort(seq):\n",
    "    if len(seq) <= 1:\n",
    "        return seq\n",
    "    middle = int(len(seq)/2)\n",
    "    left = sort(seq[:middle])\n",
    "    right = sort(sseq[middle:])\n",
    "    return merge(left, right)\n"
   ]
  },
  {
   "cell_type": "code",
   "execution_count": 20,
   "metadata": {},
   "outputs": [],
   "source": [
    "\n",
    "t = list(range(1,100))\n"
   ]
  },
  {
   "cell_type": "code",
   "execution_count": 24,
   "metadata": {},
   "outputs": [],
   "source": [
    "result = 0\n",
    "s = sorted(t,reverse=True)"
   ]
  },
  {
   "cell_type": "code",
   "execution_count": 25,
   "metadata": {},
   "outputs": [
    {
     "name": "stdout",
     "output_type": "stream",
     "text": [
      "9702\n"
     ]
    }
   ],
   "source": [
    "a,b = s[0:2]\n",
    "result = a*b\n",
    "print(result)"
   ]
  },
  {
   "cell_type": "code",
   "execution_count": 28,
   "metadata": {},
   "outputs": [
    {
     "name": "stdout",
     "output_type": "stream",
     "text": [
      "3\n",
      "1 2 3\n",
      "2\n"
     ]
    }
   ],
   "source": [
    "# Uses python3\n",
    "n = int(input())\n",
    "a = [int(x) for x in input().split()]\n",
    "assert(len(a) == n)\n",
    "result = 0\n",
    "s = sorted(a,reverse=True)\n",
    "x,y = s[0:2]\n",
    "result = x*y\n",
    "print(result)\n"
   ]
  },
  {
   "cell_type": "code",
   "execution_count": null,
   "metadata": {
    "collapsed": true
   },
   "outputs": [],
   "source": []
  }
 ],
 "metadata": {
  "kernelspec": {
   "display_name": "Python 3",
   "language": "python",
   "name": "python3"
  },
  "language_info": {
   "codemirror_mode": {
    "name": "ipython",
    "version": 3
   },
   "file_extension": ".py",
   "mimetype": "text/x-python",
   "name": "python",
   "nbconvert_exporter": "python",
   "pygments_lexer": "ipython3",
   "version": "3.5.3"
  }
 },
 "nbformat": 4,
 "nbformat_minor": 2
}
