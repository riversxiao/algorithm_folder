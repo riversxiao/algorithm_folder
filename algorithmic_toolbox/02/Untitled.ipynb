{
 "cells": [
  {
   "cell_type": "code",
   "execution_count": 7,
   "metadata": {
    "collapsed": true
   },
   "outputs": [],
   "source": [
    "def fib_mod(n,m):\n",
    "    memo ={0:0,\n",
    "           1:1}\n",
    "    for i in range(2,n+1):\n",
    "        memo[i] = memo[i-1] + memo[i-2]\n",
    "        if memo[i]%m==1 and memo[i-1]%m==0:\n",
    "            index = n%(i-1)\n",
    "            return memo[index]%m\n",
    "    return memo[n]%m"
   ]
  },
  {
   "cell_type": "code",
   "execution_count": 14,
   "metadata": {
    "collapsed": false
   },
   "outputs": [
    {
     "data": {
      "text/plain": [
       "90626"
      ]
     },
     "execution_count": 14,
     "metadata": {},
     "output_type": "execute_result"
    }
   ],
   "source": [
    "fib_mod(99999999999999999,100000)"
   ]
  },
  {
   "cell_type": "code",
   "execution_count": 13,
   "metadata": {
    "collapsed": false
   },
   "outputs": [
    {
     "data": {
      "text/plain": [
       "1"
      ]
     },
     "execution_count": 13,
     "metadata": {},
     "output_type": "execute_result"
    }
   ],
   "source": [
    "fib(23)%4"
   ]
  },
  {
   "cell_type": "code",
   "execution_count": 28,
   "metadata": {
    "collapsed": false
   },
   "outputs": [
    {
     "data": {
      "text/plain": [
       "2"
      ]
     },
     "execution_count": 28,
     "metadata": {},
     "output_type": "execute_result"
    }
   ],
   "source": [
    "10946%4"
   ]
  },
  {
   "cell_type": "code",
   "execution_count": 17,
   "metadata": {
    "collapsed": true
   },
   "outputs": [],
   "source": [
    "x.append(34)"
   ]
  },
  {
   "cell_type": "code",
   "execution_count": 16,
   "metadata": {
    "collapsed": false
   },
   "outputs": [],
   "source": [
    "import math"
   ]
  },
  {
   "cell_type": "code",
   "execution_count": 3,
   "metadata": {
    "collapsed": false
   },
   "outputs": [],
   "source": [
    "\n",
    "def fib(n):\n",
    "    memo ={0:0,\n",
    "           1:1}\n",
    "    for i in range(2,n+1):\n",
    "        memo[i] = memo[i-1] + memo[i-2]\n",
    "    return memo[n]\n"
   ]
  },
  {
   "cell_type": "code",
   "execution_count": 25,
   "metadata": {
    "collapsed": false
   },
   "outputs": [
    {
     "name": "stdout",
     "output_type": "stream",
     "text": [
      "90626\n"
     ]
    }
   ],
   "source": [
    "def Huge_Fib(n,m):\n",
    "    v1, v2, v3 = 1, 1, 0  \n",
    "    for rec in bin(n)[3:]:\n",
    "        calc = (v2*v2) % m\n",
    "        v1, v2, v3 = (v1*v1+calc) % m, ((v1+v3)*v2) % m, (calc+v3*v3) % m\n",
    "        if rec == '1': v1, v2, v3 = (v1+v2) % m, v1, v2\n",
    "    print(v2)       \n",
    "\n",
    "Huge_Fib(99999999999999999,100000)"
   ]
  },
  {
   "cell_type": "code",
   "execution_count": 27,
   "metadata": {
    "collapsed": false
   },
   "outputs": [],
   "source": [
    "def fib(n):\n",
    "    v1, v2, v3 = 1, 1, 0    \n",
    "    for rec in bin(n)[3:]:\n",
    "        calc = v2*v2\n",
    "        v1, v2, v3 = v1*v1+calc, (v1+v3)*v2, calc+v3*v3\n",
    "        if rec=='1':    v1, v2, v3 = v1+v2, v1, v2\n",
    "    return v2\n"
   ]
  },
  {
   "cell_type": "code",
   "execution_count": 29,
   "metadata": {
    "collapsed": true
   },
   "outputs": [],
   "source": [
    "def fib_mod(n):\n",
    "    memo ={0:0,\n",
    "           1:1}\n",
    "    period = [0,1]\n",
    "    for i in range(2,n+1):\n",
    "        memo[i] = memo[i-1] + memo[i-2]\n",
    "        period.append(memo[i]%10)\n",
    "        if period[-2:] ==[0,1]:\n",
    "            index = (n+1)%(len(period)-2)\n",
    "            return period[index-1]\n",
    "    return memo[n]%10"
   ]
  },
  {
   "cell_type": "code",
   "execution_count": 30,
   "metadata": {
    "collapsed": false
   },
   "outputs": [
    {
     "data": {
      "text/plain": [
       "0"
      ]
     },
     "execution_count": 30,
     "metadata": {},
     "output_type": "execute_result"
    }
   ],
   "source": [
    "fib_mod(0)"
   ]
  },
  {
   "cell_type": "code",
   "execution_count": 43,
   "metadata": {
    "collapsed": true
   },
   "outputs": [],
   "source": [
    "def fib_sum(n):\n",
    "    memo ={0:0,\n",
    "           1:1}\n",
    "    period = [0,1]\n",
    "    if n == 0:\n",
    "        return 0\n",
    "    if n == 1:\n",
    "        return 1\n",
    "    for i in range(2,n+1):\n",
    "        memo[i] = memo[i-1] + memo[i-2]\n",
    "        period.append(memo[i]%10)\n",
    "        if period[-2:] ==[0,1]:\n",
    "            freq = (len(period)-2)\n",
    "            inner_sum = sum(period[:-2])\n",
    "            times = n//freq\n",
    "            index = n % freq\n",
    "            return (inner_sum * times + sum(period[:index+1]))%10\n",
    "    return sum(period)%10\n",
    "\n",
    "def fib_sum_p(from_, to):\n",
    "    if from_ ==0 :\n",
    "        return fib_sum(to)\n",
    "\n",
    "    result =fib_sum(to)+10-fib_sum(from_-1)\n",
    "    return result%10"
   ]
  },
  {
   "cell_type": "code",
   "execution_count": 44,
   "metadata": {
    "collapsed": false
   },
   "outputs": [
    {
     "data": {
      "text/plain": [
       "0"
      ]
     },
     "execution_count": 44,
     "metadata": {},
     "output_type": "execute_result"
    }
   ],
   "source": [
    "fib_sum(0)"
   ]
  },
  {
   "cell_type": "code",
   "execution_count": 45,
   "metadata": {
    "collapsed": true
   },
   "outputs": [],
   "source": [
    "def fib_sum(n):\n",
    "    memo ={0:0,\n",
    "           1:1}\n",
    "    period = [0,1]\n",
    "    for i in range(2,n+1):\n",
    "        memo[i] = memo[i-1] + memo[i-2]\n",
    "        period.append(memo[i]%10)\n",
    "        if period[-2:] ==[0,1]:\n",
    "            freq = (len(period)-2)\n",
    "            inner_sum = sum(period[:-2])\n",
    "            times = n//freq\n",
    "            index = n % freq\n",
    "            return (inner_sum * times + sum(period[:index+1]))%10\n",
    "    return sum(period)%10"
   ]
  },
  {
   "cell_type": "code",
   "execution_count": 79,
   "metadata": {
    "collapsed": false
   },
   "outputs": [],
   "source": [
    "def binary_search(a, x,left=0,right=None):\n",
    "    \n",
    "    if right is None:\n",
    "        right = len(a)\n",
    "    middle = left + (right-left)//2\n",
    "    if right <= left:\n",
    "        return -1\n",
    "    elif x == a[middle]:\n",
    "        return middle\n",
    "    elif x > a[middle]:\n",
    "        return binary_search(a,x,middle+1,right)\n",
    "    else:\n",
    "        return binary_search(a,x,left,middle)\n"
   ]
  },
  {
   "cell_type": "code",
   "execution_count": 82,
   "metadata": {
    "collapsed": false,
    "scrolled": false
   },
   "outputs": [
    {
     "data": {
      "text/plain": [
       "1"
      ]
     },
     "execution_count": 82,
     "metadata": {},
     "output_type": "execute_result"
    }
   ],
   "source": [
    "a = list(range(10,100000))\n",
    "binary_search(a,11)"
   ]
  },
  {
   "cell_type": "code",
   "execution_count": 71,
   "metadata": {
    "collapsed": true
   },
   "outputs": [],
   "source": [
    "def binary_search(a, x, lo=0, hi=None):\n",
    "    if hi is None:\n",
    "        hi = len(a)\n",
    "    while lo < hi:\n",
    "        mid = (lo+hi)//2\n",
    "        midval = a[mid]\n",
    "        if midval < x:\n",
    "            lo = mid+1\n",
    "        elif midval > x: \n",
    "            hi = mid\n",
    "        else:\n",
    "            return mid\n",
    "    return -1"
   ]
  },
  {
   "cell_type": "code",
   "execution_count": 72,
   "metadata": {
    "collapsed": false
   },
   "outputs": [
    {
     "data": {
      "text/plain": [
       "9990"
      ]
     },
     "execution_count": 72,
     "metadata": {},
     "output_type": "execute_result"
    }
   ],
   "source": [
    "binary_search(a,10000)"
   ]
  },
  {
   "cell_type": "code",
   "execution_count": 83,
   "metadata": {
    "collapsed": true
   },
   "outputs": [],
   "source": [
    "def get_majority_element(a, left, right):\n",
    "    if left == right:\n",
    "        return -1\n",
    "    if left + 1 == right:\n",
    "        return a[left]\n",
    "    #write your code here\n",
    "    return -1"
   ]
  },
  {
   "cell_type": "code",
   "execution_count": 100,
   "metadata": {
    "collapsed": false
   },
   "outputs": [],
   "source": [
    "# Uses python3\n",
    "import sys\n",
    "\n",
    "def merge(left, right):\n",
    "    result = []\n",
    "    n, m = 0, 0\n",
    "    while n < len(left) and m < len(right):\n",
    "        if left[n] <= right[m]:\n",
    "            result.append(left[n])\n",
    "            n += 1\n",
    "        else:\n",
    "            result.append(right[m])\n",
    "            m += 1\n",
    "    result += left[n:]\n",
    "    result += right[m:]\n",
    "    return result\n",
    "\n",
    "\n",
    "def sort(seq):\n",
    "    if len(seq) <= 1:\n",
    "        return seq\n",
    "    middle = int(len(seq) / 2)\n",
    "    left = sort(seq[:middle])\n",
    "    right = sort(seq[middle:])\n",
    "    return merge(left, right)\n",
    "\n",
    "\n",
    "\n",
    "\n"
   ]
  },
  {
   "cell_type": "code",
   "execution_count": 101,
   "metadata": {
    "collapsed": true
   },
   "outputs": [],
   "source": [
    "a = [2,3,9,2,2]\n",
    "t ='512766168 717383758 5 126144732 5 573799007 5 5 5 405079772'\n",
    "a = t.split()"
   ]
  },
  {
   "cell_type": "code",
   "execution_count": 102,
   "metadata": {
    "collapsed": false
   },
   "outputs": [
    {
     "data": {
      "text/plain": [
       "-1"
      ]
     },
     "execution_count": 102,
     "metadata": {},
     "output_type": "execute_result"
    }
   ],
   "source": [
    "get_majority_element(a,0,9)"
   ]
  },
  {
   "cell_type": "code",
   "execution_count": 104,
   "metadata": {
    "collapsed": false
   },
   "outputs": [
    {
     "data": {
      "text/plain": [
       "[1, 2, 3]"
      ]
     },
     "execution_count": 104,
     "metadata": {},
     "output_type": "execute_result"
    }
   ],
   "source": [
    "def DCchange(money, coins):\n",
    "    \n",
    "    mincoinchange = {0:0}\n",
    "    for m in range(1,money+1):\n",
    "        mincoinchange[m] = float('inf')\n",
    "        for coin in coins:\n",
    "            if m > coin:\n",
    "                m -= coin\n",
    "                mincoinchange[m]\n",
    "        "
   ]
  },
  {
   "cell_type": "code",
   "execution_count": 106,
   "metadata": {
    "collapsed": false
   },
   "outputs": [],
   "source": []
  },
  {
   "cell_type": "code",
   "execution_count": 107,
   "metadata": {
    "collapsed": false
   },
   "outputs": [
    {
     "data": {
      "text/plain": [
       "True"
      ]
     },
     "execution_count": 107,
     "metadata": {},
     "output_type": "execute_result"
    }
   ],
   "source": []
  },
  {
   "cell_type": "code",
   "execution_count": null,
   "metadata": {
    "collapsed": true
   },
   "outputs": [],
   "source": []
  }
 ],
 "metadata": {
  "kernelspec": {
   "display_name": "Python 3",
   "language": "python",
   "name": "python3"
  },
  "language_info": {
   "codemirror_mode": {
    "name": "ipython",
    "version": 3
   },
   "file_extension": ".py",
   "mimetype": "text/x-python",
   "name": "python",
   "nbconvert_exporter": "python",
   "pygments_lexer": "ipython3",
   "version": "3.6.0"
  }
 },
 "nbformat": 4,
 "nbformat_minor": 2
}
