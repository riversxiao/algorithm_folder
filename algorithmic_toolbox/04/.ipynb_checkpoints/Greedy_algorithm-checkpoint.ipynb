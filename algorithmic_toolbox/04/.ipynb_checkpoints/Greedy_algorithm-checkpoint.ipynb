{
 "cells": [
  {
   "cell_type": "code",
   "execution_count": 39,
   "metadata": {
    "collapsed": true
   },
   "outputs": [],
   "source": [
    "gas_station = [1,3,5,7,9]\n",
    "def gasFill(gas,n,L):\n",
    "    currentRefill = 0 \n",
    "    numRefill = 0\n",
    "    while currentRefill < n-1:\n",
    "        lastRefill = currentRefill\n",
    "        while currentRefill < n-1 and gas[currentRefill+1] - gas[lastRefill] <= L:\n",
    "            currentRefill += 1\n",
    "            print(currentRefill)\n",
    "        if currentRefill == lastRefill:\n",
    "            print(currentRefill)\n",
    "            return 'Mission Impossible'\n",
    "        elif currentRefill<=n-1:\n",
    "            numRefill += 1\n",
    "            print('tag',numRefill)\n",
    "    return numRefill"
   ]
  },
  {
   "cell_type": "code",
   "execution_count": 41,
   "metadata": {
    "collapsed": false,
    "scrolled": true
   },
   "outputs": [
    {
     "name": "stdout",
     "output_type": "stream",
     "text": [
      "1\n",
      "2\n",
      "3\n",
      "tag 1\n",
      "4\n",
      "tag 2\n"
     ]
    },
    {
     "data": {
      "text/plain": [
       "2"
      ]
     },
     "execution_count": 41,
     "metadata": {},
     "output_type": "execute_result"
    }
   ],
   "source": [
    "gasFill(gas_station, len(gas_station),)"
   ]
  },
  {
   "cell_type": "code",
   "execution_count": 56,
   "metadata": {
    "collapsed": false
   },
   "outputs": [],
   "source": [
    "import wget\n",
    "url = 'https://d3c33hcgiwev3.cloudfront.net/_557e747b2146577e6cbf61df0f353dc6_02_greedy_algorithms_starter_files.zip?Expires=1506211200&Signature=EXQGW6GULO31OPPAxLnu7CD2~kY6mQfTrkECUZkFs1EKRxg0DmN5T5qakf4k~Gas2nOluh5m~Y1HZkxgwffZ9ylXrZCREsuOyP0kZqDXGDAil64nlmQ-feoW4~06xSx0ph1BMd8rKJSQnkWUk~1HTFVcB7E~zJSQjDyND8hMPnE_&Key-Pair-Id=APKAJLTNE6QMUY6HBC5A'\n",
    "\n",
    "\n",
    "\n"
   ]
  },
  {
   "cell_type": "code",
   "execution_count": 58,
   "metadata": {
    "collapsed": true
   },
   "outputs": [],
   "source": [
    "import os\n"
   ]
  },
  {
   "cell_type": "code",
   "execution_count": null,
   "metadata": {
    "collapsed": false
   },
   "outputs": [],
   "source": []
  }
 ],
 "metadata": {
  "kernelspec": {
   "display_name": "Python 3",
   "language": "python",
   "name": "python3"
  },
  "language_info": {
   "codemirror_mode": {
    "name": "ipython",
    "version": 3
   },
   "file_extension": ".py",
   "mimetype": "text/x-python",
   "name": "python",
   "nbconvert_exporter": "python",
   "pygments_lexer": "ipython3",
   "version": "3.6.0"
  }
 },
 "nbformat": 4,
 "nbformat_minor": 2
}
