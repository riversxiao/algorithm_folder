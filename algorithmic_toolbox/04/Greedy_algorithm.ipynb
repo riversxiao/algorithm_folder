{
 "cells": [
  {
   "cell_type": "code",
   "execution_count": null,
   "metadata": {
    "collapsed": true
   },
   "outputs": [],
   "source": [
    "gas_station = [1,3,5,7,9]\n",
    "def gasFill(gas,n,L):\n",
    "    currentRefill = 0 \n",
    "    numRefill = 0\n",
    "    while currentRefill < n-1:\n",
    "        lastRefill = currentRefill\n",
    "        while currentRefill < n-1 and gas[currentRefill+1] - gas[lastRefill] <= L:\n",
    "            currentRefill += 1\n",
    "            print(currentRefill)\n",
    "        if currentRefill == lastRefill:\n",
    "            print(currentRefill)\n",
    "            return 'Mission Impossible'\n",
    "        elif currentRefill<=n-1:\n",
    "            numRefill += 1\n",
    "            print('tag',numRefill)\n",
    "    return numRefill"
   ]
  },
  {
   "cell_type": "code",
   "execution_count": null,
   "metadata": {
    "collapsed": false,
    "scrolled": true
   },
   "outputs": [],
   "source": [
    "gasFill(gas_station, len(gas_station),)"
   ]
  },
  {
   "cell_type": "code",
   "execution_count": null,
   "metadata": {
    "collapsed": false
   },
   "outputs": [],
   "source": [
    "def get_change(m):\n",
    "    numTen = m//10\n",
    "    numFive = m%10//5\n",
    "    numOne = m%10%5/1\n",
    "    result = numTen + numFive + numOne \n",
    "    return int(result)\n",
    "\n"
   ]
  },
  {
   "cell_type": "code",
   "execution_count": null,
   "metadata": {
    "collapsed": false
   },
   "outputs": [],
   "source": [
    "get_change(106)\n"
   ]
  },
  {
   "cell_type": "code",
   "execution_count": null,
   "metadata": {
    "collapsed": false
   },
   "outputs": [],
   "source": [
    "\n",
    "    \n",
    "def get_optimal_value(capacity, weights, values):\n",
    "    curWeight = 0.\n",
    "    total = 0.\n",
    "    utilities = sorted([(x/y,y) for x,y in zip(values,weights)])\n",
    "    count = 0\n",
    "    while curWeight < capacity and utilities:\n",
    "        count +=1\n",
    "        if utilities[-1][1] <= capacity-curWeight:\n",
    "            curWeight += utilities[-1][1]\n",
    "            total += utilities[-1][0]*utilities[-1][1]\n",
    "            utilities.pop()\n",
    "        elif utilities[-1][1] > capacity-curWeight:\n",
    "            total += utilities[-1][0]*(capacity-curWeight)\n",
    "            curWeight += capacity-curWeight\n",
    "    return total"
   ]
  },
  {
   "cell_type": "code",
   "execution_count": null,
   "metadata": {
    "collapsed": false
   },
   "outputs": [],
   "source": [
    "get_optimal_value(4, [3],[6])"
   ]
  },
  {
   "cell_type": "code",
   "execution_count": null,
   "metadata": {
    "collapsed": true
   },
   "outputs": [],
   "source": [
    "def max_dot_product(a, b):\n",
    "    a = sorted(a)\n",
    "    b = sorted(b)\n",
    "    result = sum([x*y for x,y in zip(a,b)])\n",
    "    return result"
   ]
  },
  {
   "cell_type": "code",
   "execution_count": null,
   "metadata": {
    "collapsed": true
   },
   "outputs": [],
   "source": [
    "a = [1, 3, -5]\n",
    "b = [-2, 4, 1]\n",
    "\n"
   ]
  },
  {
   "cell_type": "code",
   "execution_count": null,
   "metadata": {
    "collapsed": false
   },
   "outputs": [],
   "source": [
    "max_dot_product(a,b)"
   ]
  },
  {
   "cell_type": "code",
   "execution_count": null,
   "metadata": {
    "collapsed": false
   },
   "outputs": [],
   "source": [
    "Segment = namedtuple('Segment', 'start end')\n",
    "\n",
    "def optimal_points(segments):\n",
    "    points = []\n",
    "    #write your code here\n",
    "    for s in segments:\n",
    "        points.append(s.start)\n",
    "        points.append(s.end)\n",
    "    return points"
   ]
  },
  {
   "cell_type": "code",
   "execution_count": 27,
   "metadata": {
    "collapsed": false
   },
   "outputs": [
    {
     "name": "stdout",
     "output_type": "stream",
     "text": [
      "4 4 7 1 3 2 5 5 6\n",
      "1 0 0\n",
      "2 0 0\n",
      "2 1 0\n",
      "2 2 0\n",
      "1\n",
      "7 "
     ]
    }
   ],
   "source": [
    "# Uses python3\n",
    "import sys\n",
    "from collections import namedtuple\n",
    "\n",
    "Segment = namedtuple('Segment', 'start end')\n",
    "\n",
    "def optimal_points(segments):\n",
    "    sorted(segments)\n",
    "    points = []\n",
    "    currentPos = 0\n",
    "    lastPos = 0\n",
    "    while currentPos< len(segments):\n",
    "        print(\"1\",currentPos,lastPos)\n",
    "        while currentPos < len(segments)-1 and segments[currentPos+1][0]<= segments[lastPos][1]:\n",
    "            print(\"2\",currentPos,lastPos)\n",
    "            currentPos += 1\n",
    "        points.append(segments[lastPos][1])\n",
    "        lastPos = currentPos\n",
    "        currentPos += 1\n",
    "    return points\n",
    "\n",
    "if __name__ == '__main__':\n",
    "    inputs = input()\n",
    "    n, *data = map(int, inputs.split())\n",
    "    segments = list(map(lambda x: Segment(x[0], x[1]), zip(data[::2], data[1::2])))\n",
    "    points = optimal_points(segments)\n",
    "    print(len(points))\n",
    "    for p in points:\n",
    "        print(p, end=' ')"
   ]
  },
  {
   "cell_type": "code",
   "execution_count": 13,
   "metadata": {
    "collapsed": false
   },
   "outputs": [
    {
     "data": {
      "text/plain": [
       "3"
      ]
     },
     "execution_count": 13,
     "metadata": {},
     "output_type": "execute_result"
    }
   ],
   "source": [
    "segments[0][1]"
   ]
  },
  {
   "cell_type": "code",
   "execution_count": null,
   "metadata": {
    "collapsed": true
   },
   "outputs": [],
   "source": []
  }
 ],
 "metadata": {
  "kernelspec": {
   "display_name": "Python 3",
   "language": "python",
   "name": "python3"
  },
  "language_info": {
   "codemirror_mode": {
    "name": "ipython",
    "version": 3
   },
   "file_extension": ".py",
   "mimetype": "text/x-python",
   "name": "python",
   "nbconvert_exporter": "python",
   "pygments_lexer": "ipython3",
   "version": "3.6.0"
  }
 },
 "nbformat": 4,
 "nbformat_minor": 2
}
